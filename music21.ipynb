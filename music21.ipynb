{
 "cells": [
  {
   "cell_type": "markdown",
   "metadata": {},
   "source": [
    "# Exploring the music21 library in python"
   ]
  },
  {
   "cell_type": "markdown",
   "metadata": {},
   "source": [
    "To import the library, you can either use:"
   ]
  },
  {
   "cell_type": "code",
   "execution_count": 4,
   "metadata": {},
   "outputs": [],
   "source": [
    "from music21 import *"
   ]
  },
  {
   "cell_type": "markdown",
   "metadata": {},
   "source": [
    "or:"
   ]
  },
  {
   "cell_type": "code",
   "execution_count": null,
   "metadata": {},
   "outputs": [],
   "source": [
    "import music21"
   ]
  },
  {
   "cell_type": "markdown",
   "metadata": {},
   "source": [
    "The smallest unit of any musical piece is a note. music21 lets us create these note objects and play with the pitch and octave of these notes.\n",
    "\n",
    "The rest of the notebook will be compliant with the first import code. Make sure to run 'from music21 import *' before proceeding forward. This creates a namespace called music21 and we dont have to mention the library name while calling any classes \n",
    "\n",
    "We'll create an F note "
   ]
  },
  {
   "cell_type": "code",
   "execution_count": 5,
   "metadata": {},
   "outputs": [],
   "source": [
    "f = note.Note(\"F5\")"
   ]
  },
  {
   "cell_type": "code",
   "execution_count": 6,
   "metadata": {},
   "outputs": [
    {
     "name": "stdout",
     "output_type": "stream",
     "text": [
      "<music21.note.Note F>\n"
     ]
    }
   ],
   "source": [
    "print (f)"
   ]
  },
  {
   "cell_type": "markdown",
   "metadata": {},
   "source": [
    "We can check out the name, octave, pitch and frequency attributes of the created note."
   ]
  },
  {
   "cell_type": "code",
   "execution_count": 7,
   "metadata": {},
   "outputs": [
    {
     "name": "stdout",
     "output_type": "stream",
     "text": [
      "F 5\n"
     ]
    }
   ],
   "source": [
    "print(f.name, f.octave)"
   ]
  },
  {
   "cell_type": "code",
   "execution_count": 8,
   "metadata": {},
   "outputs": [
    {
     "name": "stdout",
     "output_type": "stream",
     "text": [
      "F5\n"
     ]
    }
   ],
   "source": [
    "print(f.pitch)"
   ]
  },
  {
   "cell_type": "code",
   "execution_count": 10,
   "metadata": {},
   "outputs": [
    {
     "name": "stdout",
     "output_type": "stream",
     "text": [
      "698.456462866008\n"
     ]
    }
   ],
   "source": [
    "print(f.pitch.frequency)"
   ]
  },
  {
   "cell_type": "markdown",
   "metadata": {},
   "source": [
    "Accidentals raise or lower the immediately follwing note from its normal pitch - they include sharps and flats. In music21, sharps are symbolised as '#' and flats are symbolised as '-'.\n",
    "\n",
    "First lets create a note with an accidental and then analyse the available attributes of an accidental. \n",
    "Here we have created a B flat note in the 2nd octave."
   ]
  },
  {
   "cell_type": "code",
   "execution_count": 11,
   "metadata": {},
   "outputs": [],
   "source": [
    "f = note.Note('B-2')"
   ]
  },
  {
   "cell_type": "code",
   "execution_count": 12,
   "metadata": {},
   "outputs": [
    {
     "name": "stdout",
     "output_type": "stream",
     "text": [
      "<accidental flat>\n"
     ]
    }
   ],
   "source": [
    "print(f.pitch.accidental)"
   ]
  },
  {
   "cell_type": "markdown",
   "metadata": {},
   "source": [
    "As you can see, the accidental we obtained here is not a string or integer, but an object. To find the properties of the accidental as in it's location, how much it alters the normal pitch of the note, we will have to work with this accidental object.\n",
    "\n",
    "Lets find out the location and the alteration provided by the accidental"
   ]
  },
  {
   "cell_type": "code",
   "execution_count": 14,
   "metadata": {},
   "outputs": [
    {
     "name": "stdout",
     "output_type": "stream",
     "text": [
      "-1.0\n",
      "normal\n"
     ]
    }
   ],
   "source": [
    "acc = f.pitch.accidental\n",
    "print (acc.alter)\n",
    "print (acc.displayLocation)"
   ]
  },
  {
   "cell_type": "markdown",
   "metadata": {},
   "source": [
    "The alter here gives -1.0 as its a flat. sharp would have given a positive float. Float results suggest that even quarter-tones are supported by the library.\n",
    "\n",
    "You can listen to the note."
   ]
  },
  {
   "cell_type": "code",
   "execution_count": 16,
   "metadata": {},
   "outputs": [
    {
     "data": {
      "text/html": [
       "\n",
       "                <div id='midiPlayerDiv56'></div>\n",
       "                <link rel=\"stylesheet\" href=\"//cuthbertLab.github.io/music21j/css/m21.css\"\n",
       "                    type=\"text/css\" />\n",
       "                <script>\n",
       "                require.config({\n",
       "                    paths: {'music21': '//cuthbertLab.github.io/music21j/src/music21'}\n",
       "                });\n",
       "                require(['music21'], function() {\n",
       "                               mp = new music21.miditools.MidiPlayer();\n",
       "                               mp.addPlayer('#midiPlayerDiv56');\n",
       "                               mp.base64Load('data:audio/midi;base64,TVRoZAAAAAYAAQABBABNVHJrAAAAFgD/AwAA4ABAAJAuWogAgC4AiAD/LwA=');\n",
       "                        });\n",
       "                </script>"
      ],
      "text/plain": [
       "<IPython.core.display.HTML object>"
      ]
     },
     "metadata": {},
     "output_type": "display_data"
    }
   ],
   "source": [
    "f.show('midi')"
   ]
  },
  {
   "cell_type": "markdown",
   "metadata": {},
   "source": [
    "If you’ve installed a MusicXML reader such as MuseScore, Finale, Sibelius, or Finale Notepad, you can type:"
   ]
  },
  {
   "cell_type": "code",
   "execution_count": null,
   "metadata": {},
   "outputs": [],
   "source": [
    "f.show()"
   ]
  },
  {
   "cell_type": "markdown",
   "metadata": {},
   "source": [
    "Creating a D note by transposing the B-flat up a major third. You can also change the B-flat note itself by setting inPlace = True"
   ]
  },
  {
   "cell_type": "code",
   "execution_count": 18,
   "metadata": {},
   "outputs": [
    {
     "name": "stdout",
     "output_type": "stream",
     "text": [
      "<music21.note.Note D>\n",
      "<music21.note.Note D>\n"
     ]
    }
   ],
   "source": [
    "d = f.transpose(\"M3\")\n",
    "print (d)\n",
    "f.transpose(\"M3\", inPlace=True)\n",
    "print (f)"
   ]
  },
  {
   "cell_type": "markdown",
   "metadata": {},
   "source": [
    "Not every note has an accidental. For example, you can try calling the accidental attribute for the D note. Naturally the name of a non existing accidental will give error"
   ]
  },
  {
   "cell_type": "code",
   "execution_count": 22,
   "metadata": {},
   "outputs": [
    {
     "name": "stdout",
     "output_type": "stream",
     "text": [
      "None\n",
      "No name for this non existing accidental\n"
     ]
    }
   ],
   "source": [
    "print (d.pitch.accidental)\n",
    "\n",
    "if d.pitch.accidental is not None:\n",
    "    print (d.pitch.accidental.name)\n",
    "else:\n",
    "    print (\"No name for this non existing accidental\")"
   ]
  },
  {
   "cell_type": "markdown",
   "metadata": {},
   "source": [
    "A note which doesnt have a pitch is called rest. As the name suggests, in a musical piece, a rest is a silent part. Here, since it doesnt have a pitch, trying to access all the pitch attributes will give error."
   ]
  },
  {
   "cell_type": "code",
   "execution_count": null,
   "metadata": {},
   "outputs": [],
   "source": [
    "rest = note.Rest()\n",
    "rest.show('midi') #wont give any vocal output as its supposed to be silent\n",
    "rest.show()"
   ]
  },
  {
   "cell_type": "markdown",
   "metadata": {},
   "source": [
    "Pitch object is found in the pitch module, like the note object. Every Note object has a Pitch object inside it. You can access the pitch object inside the note object by using note.Note.pitch"
   ]
  },
  {
   "cell_type": "code",
   "execution_count": 28,
   "metadata": {},
   "outputs": [
    {
     "name": "stdout",
     "output_type": "stream",
     "text": [
      "Pitch Name:  B-\n",
      "Pitch Octave:  4\n",
      "Pitch Class:  10\n",
      "Accidental on pitch:  -1.0\n",
      "Directly accessing the pitch of a note object: \n",
      "Pitch Name:  C#\n",
      "Pitch Octave:  4\n"
     ]
    }
   ],
   "source": [
    "p1 = pitch.Pitch('b-4')\n",
    "print (\"Pitch Name: \", p1.name)\n",
    "print (\"Pitch Octave: \", p1.octave)\n",
    "print (\"Pitch Class: \", p1.pitchClass)\n",
    "print (\"Accidental on pitch: \", p1.accidental.alter)\n",
    "\n",
    "print(\"Directly accessing the pitch of a note object: \")\n",
    "csharp = note.Note(\"C#4\")\n",
    "print (\"Pitch Name: \", csharp.pitch.name)\n",
    "print (\"Pitch Octave: \", csharp.pitch.octave)"
   ]
  },
  {
   "cell_type": "markdown",
   "metadata": {},
   "source": [
    "You can also get the pitches printed in different language and musical notations."
   ]
  },
  {
   "cell_type": "code",
   "execution_count": 30,
   "metadata": {},
   "outputs": [
    {
     "name": "stdout",
     "output_type": "stream",
     "text": [
      "do sostenido\n",
      "C♯\n"
     ]
    }
   ],
   "source": [
    "print (csharp.pitch.spanish)\n",
    "print (csharp.pitch.unicodeName)"
   ]
  },
  {
   "cell_type": "markdown",
   "metadata": {},
   "source": [
    "A certain note lasts for a particular duration of time called a Note's Duration. Both Note and Rest have duration. Duration module let's you create durations of specified type. "
   ]
  },
  {
   "cell_type": "code",
   "execution_count": 31,
   "metadata": {},
   "outputs": [],
   "source": [
    "halfDuration = duration.Duration(\"half\")"
   ]
  },
  {
   "cell_type": "markdown",
   "metadata": {},
   "source": [
    "Conversely, you can also use floats and integers to create a duration. A 'half' duration would be represented as 2.0. Since floats are allowed, durations that aren't exactly 'half', 'whole', 'quarter' can also be represented. E.g: a dotted quarter note long duration can be created as follows:"
   ]
  },
  {
   "cell_type": "code",
   "execution_count": 34,
   "metadata": {},
   "outputs": [
    {
     "name": "stdout",
     "output_type": "stream",
     "text": [
      "1.5\n",
      "quarter\n",
      "1\n"
     ]
    }
   ],
   "source": [
    "dottedQuarterDuration = duration.Duration(1.5)\n",
    "print (dottedQuarterDuration.quarterLength)\n",
    "print(dottedQuarterDuration.type)\n",
    "print (dottedQuarterDuration.dots)"
   ]
  },
  {
   "cell_type": "markdown",
   "metadata": {},
   "source": [
    "You can create a default note which will have a default pitch of C and default duration of 1.0"
   ]
  },
  {
   "cell_type": "code",
   "execution_count": 35,
   "metadata": {},
   "outputs": [
    {
     "name": "stdout",
     "output_type": "stream",
     "text": [
      "Pitch Name:  C4\n",
      "Note Duration:  <music21.duration.Duration 1.0>\n",
      "Note Duration Type:  quarter\n",
      "Pitch Accidental:  None\n",
      "Octave:  4\n"
     ]
    }
   ],
   "source": [
    "dNote = note.Note()\n",
    "print (\"Pitch Name: \", dNote.pitch)\n",
    "print (\"Note Duration: \", dNote.duration)\n",
    "print (\"Note Duration Type: \", dNote.duration.type)\n",
    "print (\"Pitch Accidental: \", dNote.pitch.accidental)\n",
    "print (\"Octave: \", dNote.octave)"
   ]
  },
  {
   "cell_type": "markdown",
   "metadata": {},
   "source": [
    "With music21 library, we can even add lyrics to the music we create by using the addLyric() method"
   ]
  },
  {
   "cell_type": "code",
   "execution_count": 37,
   "metadata": {
    "scrolled": true
   },
   "outputs": [
    {
     "ename": "SubConverterException",
     "evalue": "Cannot find a path to the 'mscore' file at /Applications/MuseScore 3.app/Contents/MacOS/mscore -- download MuseScore",
     "output_type": "error",
     "traceback": [
      "\u001b[0;31m---------------------------------------------------------------------------\u001b[0m",
      "\u001b[0;31mSubConverterException\u001b[0m                     Traceback (most recent call last)",
      "\u001b[0;32m<ipython-input-37-75a6afde5a1b>\u001b[0m in \u001b[0;36m<module>\u001b[0;34m\u001b[0m\n\u001b[1;32m      1\u001b[0m \u001b[0mdNote\u001b[0m\u001b[0;34m.\u001b[0m\u001b[0maddLyric\u001b[0m\u001b[0;34m(\u001b[0m\u001b[0;34m\"I am the queen of the night\"\u001b[0m\u001b[0;34m)\u001b[0m\u001b[0;34m\u001b[0m\u001b[0;34m\u001b[0m\u001b[0m\n\u001b[1;32m      2\u001b[0m \u001b[0mdNote\u001b[0m\u001b[0;34m.\u001b[0m\u001b[0maddLyric\u001b[0m\u001b[0;34m(\u001b[0m\u001b[0;34m\"Bright and shining, just like moon light\"\u001b[0m\u001b[0;34m)\u001b[0m\u001b[0;34m\u001b[0m\u001b[0;34m\u001b[0m\u001b[0m\n\u001b[0;32m----> 3\u001b[0;31m \u001b[0mdNote\u001b[0m\u001b[0;34m.\u001b[0m\u001b[0mshow\u001b[0m\u001b[0;34m(\u001b[0m\u001b[0;34m)\u001b[0m\u001b[0;34m\u001b[0m\u001b[0;34m\u001b[0m\u001b[0m\n\u001b[0m",
      "\u001b[0;32m/usr/local/lib/python3.7/site-packages/music21/base.py\u001b[0m in \u001b[0;36mshow\u001b[0;34m(self, fmt, app, **keywords)\u001b[0m\n\u001b[1;32m   2628\u001b[0m                                  \u001b[0mapp\u001b[0m\u001b[0;34m=\u001b[0m\u001b[0mapp\u001b[0m\u001b[0;34m,\u001b[0m\u001b[0;34m\u001b[0m\u001b[0;34m\u001b[0m\u001b[0m\n\u001b[1;32m   2629\u001b[0m                                  \u001b[0msubformats\u001b[0m\u001b[0;34m=\u001b[0m\u001b[0msubformats\u001b[0m\u001b[0;34m,\u001b[0m\u001b[0;34m\u001b[0m\u001b[0;34m\u001b[0m\u001b[0m\n\u001b[0;32m-> 2630\u001b[0;31m                                  **keywords)\n\u001b[0m\u001b[1;32m   2631\u001b[0m \u001b[0;34m\u001b[0m\u001b[0m\n\u001b[1;32m   2632\u001b[0m     \u001b[0;31m# -------------------------------------------------------------------------\u001b[0m\u001b[0;34m\u001b[0m\u001b[0;34m\u001b[0m\u001b[0;34m\u001b[0m\u001b[0m\n",
      "\u001b[0;32m/usr/local/lib/python3.7/site-packages/music21/converter/subConverters.py\u001b[0m in \u001b[0;36mshow\u001b[0;34m(self, obj, fmt, app, subformats, **keywords)\u001b[0m\n\u001b[1;32m    358\u001b[0m             \u001b[0;32mfor\u001b[0m \u001b[0ms\u001b[0m \u001b[0;32min\u001b[0m \u001b[0mscores\u001b[0m\u001b[0;34m:\u001b[0m\u001b[0;34m\u001b[0m\u001b[0;34m\u001b[0m\u001b[0m\n\u001b[1;32m    359\u001b[0m                 fp = helperSubConverter.write(s, helperFormat,\n\u001b[0;32m--> 360\u001b[0;31m                                               subformats=helperSubformats, **keywords)\n\u001b[0m\u001b[1;32m    361\u001b[0m \u001b[0;34m\u001b[0m\u001b[0m\n\u001b[1;32m    362\u001b[0m                 \u001b[0;32mif\u001b[0m \u001b[0mhelperSubformats\u001b[0m\u001b[0;34m[\u001b[0m\u001b[0;36m0\u001b[0m\u001b[0;34m]\u001b[0m \u001b[0;34m==\u001b[0m \u001b[0;34m'png'\u001b[0m\u001b[0;34m:\u001b[0m\u001b[0;34m\u001b[0m\u001b[0;34m\u001b[0m\u001b[0m\n",
      "\u001b[0;32m/usr/local/lib/python3.7/site-packages/music21/converter/subConverters.py\u001b[0m in \u001b[0;36mwrite\u001b[0;34m(self, obj, fmt, fp, subformats, **keywords)\u001b[0m\n\u001b[1;32m    936\u001b[0m                 \u001b[0;32mand\u001b[0m \u001b[0;34m(\u001b[0m\u001b[0;34m'png'\u001b[0m \u001b[0;32min\u001b[0m \u001b[0msubformats\u001b[0m \u001b[0;32mor\u001b[0m \u001b[0;34m'pdf'\u001b[0m \u001b[0;32min\u001b[0m \u001b[0msubformats\u001b[0m\u001b[0;34m)\u001b[0m\u001b[0;34m\u001b[0m\u001b[0;34m\u001b[0m\u001b[0m\n\u001b[1;32m    937\u001b[0m                 and not str(environLocal['musescoreDirectPNGPath']).startswith('/skip')):\n\u001b[0;32m--> 938\u001b[0;31m             \u001b[0mfp\u001b[0m \u001b[0;34m=\u001b[0m \u001b[0mself\u001b[0m\u001b[0;34m.\u001b[0m\u001b[0mrunThroughMusescore\u001b[0m\u001b[0;34m(\u001b[0m\u001b[0mfp\u001b[0m\u001b[0;34m,\u001b[0m \u001b[0msubformats\u001b[0m\u001b[0;34m,\u001b[0m \u001b[0;34m**\u001b[0m\u001b[0mkeywords\u001b[0m\u001b[0;34m)\u001b[0m\u001b[0;34m\u001b[0m\u001b[0;34m\u001b[0m\u001b[0m\n\u001b[0m\u001b[1;32m    939\u001b[0m \u001b[0;34m\u001b[0m\u001b[0m\n\u001b[1;32m    940\u001b[0m         \u001b[0;32mreturn\u001b[0m \u001b[0mfp\u001b[0m\u001b[0;34m\u001b[0m\u001b[0;34m\u001b[0m\u001b[0m\n",
      "\u001b[0;32m/usr/local/lib/python3.7/site-packages/music21/converter/subConverters.py\u001b[0m in \u001b[0;36mrunThroughMusescore\u001b[0;34m(self, fp, subformats, **keywords)\u001b[0m\n\u001b[1;32m    868\u001b[0m             raise SubConverterException(\n\u001b[1;32m    869\u001b[0m                         \u001b[0;34m\"Cannot find a path to the 'mscore' file at \"\u001b[0m \u001b[0;34m+\u001b[0m\u001b[0;34m\u001b[0m\u001b[0;34m\u001b[0m\u001b[0m\n\u001b[0;32m--> 870\u001b[0;31m                         '%s -- download MuseScore' % str(musescorePath))\n\u001b[0m\u001b[1;32m    871\u001b[0m \u001b[0;34m\u001b[0m\u001b[0m\n\u001b[1;32m    872\u001b[0m         \u001b[0;32mif\u001b[0m \u001b[0msubformats\u001b[0m \u001b[0;32mis\u001b[0m \u001b[0;32mNone\u001b[0m\u001b[0;34m:\u001b[0m\u001b[0;34m\u001b[0m\u001b[0;34m\u001b[0m\u001b[0m\n",
      "\u001b[0;31mSubConverterException\u001b[0m: Cannot find a path to the 'mscore' file at /Applications/MuseScore 3.app/Contents/MacOS/mscore -- download MuseScore"
     ]
    }
   ],
   "source": [
    "dNote.addLyric(\"I am the queen of the night\")\n",
    "dNote.addLyric(\"Bright and shining, just like moon light\")\n",
    "dNote.show()"
   ]
  },
  {
   "cell_type": "markdown",
   "metadata": {},
   "source": [
    "Obviously music isn't made of just 1 or 2 notes. Thus what matters to us is working with multiple Note objects. To make it simpler to analyse and work with, we can put all the associated notes of interest in a list. Again, by default the duration of every note is a 'quarter'."
   ]
  },
  {
   "cell_type": "code",
   "execution_count": 61,
   "metadata": {},
   "outputs": [
    {
     "name": "stdout",
     "output_type": "stream",
     "text": [
      "[<music21.note.Note C>, <music21.note.Note F#>]\n",
      "['C', 'F']\n",
      "[<music21.duration.Duration 1.0>, <music21.duration.Duration 1.0>]\n",
      "\n",
      "Printing pitches of all notes in the stream:  [<music21.pitch.Pitch C4>, <music21.pitch.Pitch F#4>, <music21.pitch.Pitch B4>]\n",
      "\n",
      "Printing offsets of all notes in the stream:  0.0\n"
     ]
    }
   ],
   "source": [
    "note1 = note.Note(\"C4\")\n",
    "note2 = note.Note(\"F#4\")\n",
    "noteList = [note1, note2]\n",
    "print (noteList)\n",
    "stepList = [s.step for s in noteList]\n",
    "print (stepList)\n",
    "print ([i.duration for i in noteList])\n",
    "    \n",
    "listPitches = stream1.pitches\n",
    "print (\"\\nPrinting pitches of all notes in the stream: \", listPitches)\n"
   ]
  },
  {
   "cell_type": "markdown",
   "metadata": {},
   "source": [
    "Stream objects and its subclasses are fundamental containers for Note, Chord, Clef, Signature. Streams can store other streams. Anytime we want to collect a group of music21 objects, we put them in a stream. The objects in a stream follow an offset pattern. If we have 4/4 measure with 2 half notes, then the first note would be at offset 0.0 and the second one will be at offset 2.0. A Part holds several Measures. If we get a certain measure from the part object using the measures() function, the notes in Part and the returned Measure will have the same reference. Change to any one of those will change the other one too. "
   ]
  },
  {
   "cell_type": "code",
   "execution_count": 68,
   "metadata": {},
   "outputs": [
    {
     "name": "stdout",
     "output_type": "stream",
     "text": [
      "Length of stream 1:  3\n",
      "Stream 1: \n",
      "{0.0} <music21.note.Note C>\n",
      "{1.0} <music21.note.Note F#>\n",
      "{2.0} <music21.note.Note B>\n",
      "Stream 2: \n",
      "{0.0} <music21.note.Note B>\n",
      "{1.0} <music21.note.Note B>\n",
      "{2.0} <music21.note.Note B>\n",
      "{3.0} <music21.note.Note B>\n"
     ]
    }
   ],
   "source": [
    "stream1 = stream.Stream()\n",
    "stream1.append(note1)\n",
    "stream1.append(note2)\n",
    "note3 = note.Note(\"B4\")\n",
    "stream1.append(note3)\n",
    "\n",
    "stream2 = stream.Stream()\n",
    "stream2.repeatAppend(note3, 4)\n",
    "\n",
    "print (\"Length of stream 1: \", len(stream1))\n",
    "\n",
    "print (\"Stream 1: \")\n",
    "stream1.show('text')\n",
    "\n",
    "print (\"Stream 2: \")\n",
    "stream2.show('text')"
   ]
  },
  {
   "cell_type": "markdown",
   "metadata": {},
   "source": [
    "getElementsByClass() method will iterate the stream to only return the objects of the specified class. "
   ]
  },
  {
   "cell_type": "code",
   "execution_count": 70,
   "metadata": {},
   "outputs": [
    {
     "name": "stdout",
     "output_type": "stream",
     "text": [
      "Printing stream of notes: \n",
      "<music21.note.Note C> 0.0\n",
      "<music21.note.Note F#> 1.0\n",
      "<music21.note.Note B> 2.0\n",
      "\n",
      "Printing stream of notes and rest: \n",
      "<music21.note.Note C> 0.0\n",
      "<music21.note.Note F#> 1.0\n",
      "<music21.note.Note B> 2.0\n",
      "<music21.note.Rest rest> 3.0\n",
      "<music21.note.Rest rest> 4.0\n",
      "\n",
      "Printing offsets of notes in the list:  [0.0, 1.0, 2.0, 3.0, 4.0]\n"
     ]
    }
   ],
   "source": [
    "rest1 = note.Rest()\n",
    "stream1.append(rest1)\n",
    "print (\"Printing stream of notes: \")\n",
    "for thisNote in stream1.getElementsByClass(note.Note):\n",
    "    print (thisNote, thisNote.offset)\n",
    "print (\"\\nPrinting stream of notes and rest: \")\n",
    "for thisNote in stream1.getElementsByClass([\"Note\", \"Rest\"]):\n",
    "    print (thisNote, thisNote.offset)\n",
    "    \n",
    "listOffsets = [i.offset for i in stream1]\n",
    "print (\"\\nPrinting offsets of notes in the list: \", listOffsets)"
   ]
  },
  {
   "cell_type": "markdown",
   "metadata": {},
   "source": [
    "getOffsetBySite() lets you specify the stream from which you would want to get the offsets. It's a safer way of returning offsets than .offset()"
   ]
  },
  {
   "cell_type": "code",
   "execution_count": 74,
   "metadata": {},
   "outputs": [
    {
     "name": "stdout",
     "output_type": "stream",
     "text": [
      "Printing the offset of the 2nd note in stream1\n",
      "2.0\n"
     ]
    },
    {
     "data": {
      "text/html": [
       "\n",
       "                <div id='midiPlayerDiv337'></div>\n",
       "                <link rel=\"stylesheet\" href=\"//cuthbertLab.github.io/music21j/css/m21.css\"\n",
       "                    type=\"text/css\" />\n",
       "                <script>\n",
       "                require.config({\n",
       "                    paths: {'music21': '//cuthbertLab.github.io/music21j/src/music21'}\n",
       "                });\n",
       "                require(['music21'], function() {\n",
       "                               mp = new music21.miditools.MidiPlayer();\n",
       "                               mp.addPlayer('#midiPlayerDiv337');\n",
       "                               mp.base64Load('data:audio/midi;base64,TVRoZAAAAAYAAQABBABNVHJrAAAAKAD/AwAA4ABAAJA8WogAgDwAAJBCWogAgEIAAJBHWogAgEcAiAD/LwA=');\n",
       "                        });\n",
       "                </script>"
      ],
      "text/plain": [
       "<IPython.core.display.HTML object>"
      ]
     },
     "metadata": {},
     "output_type": "display_data"
    }
   ],
   "source": [
    "print (\"Printing the offset of the 2nd note in stream1\")\n",
    "print (note3.getOffsetBySite(stream1))\n",
    "\n",
    "stream1.show('midi')"
   ]
  },
  {
   "cell_type": "code",
   "execution_count": null,
   "metadata": {},
   "outputs": [],
   "source": []
  }
 ],
 "metadata": {
  "kernelspec": {
   "display_name": "Python 3",
   "language": "python",
   "name": "python3"
  },
  "language_info": {
   "codemirror_mode": {
    "name": "ipython",
    "version": 3
   },
   "file_extension": ".py",
   "mimetype": "text/x-python",
   "name": "python",
   "nbconvert_exporter": "python",
   "pygments_lexer": "ipython3",
   "version": "3.7.5"
  }
 },
 "nbformat": 4,
 "nbformat_minor": 2
}
